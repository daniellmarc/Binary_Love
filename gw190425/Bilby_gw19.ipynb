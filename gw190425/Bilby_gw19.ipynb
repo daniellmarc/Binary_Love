{
 "cells": [
  {
   "cell_type": "code",
   "execution_count": 45,
   "id": "f2a34355-ab19-40e2-8f4f-33c17e93a9c8",
   "metadata": {},
   "outputs": [],
   "source": [
    "#just changing to BNS prior dict. keeping geocentric time, and reoving geocentric time "
   ]
  },
  {
   "cell_type": "code",
   "execution_count": 46,
   "id": "43fbc93f-678d-4f0a-9c9b-b43a44ca2af5",
   "metadata": {},
   "outputs": [],
   "source": [
    "# hello"
   ]
  },
  {
   "cell_type": "code",
   "execution_count": 1,
   "id": "1cf4e715-3b73-4b3a-9627-4b3402e41d32",
   "metadata": {},
   "outputs": [
    {
     "name": "stdout",
     "output_type": "stream",
     "text": [
      "No version information file '.version' found\n"
     ]
    }
   ],
   "source": [
    "import sys\n",
    "sys.path.insert(0, \"/home/marc.penuliar/bilby\")\n",
    "import bilby\n",
    "import numpy as np\n",
    "import seaborn as sns\n",
    "import matplotlib.pyplot as plt"
   ]
  },
  {
   "cell_type": "code",
   "execution_count": 48,
   "id": "97d7a8ac-bc53-4879-9462-a10b64f68703",
   "metadata": {},
   "outputs": [],
   "source": [
    "# import bilby\n",
    "from gwpy.timeseries import TimeSeries\n",
    "\n",
    "logger = bilby.core.utils.logger\n",
    "outdir = \"outdir\"\n",
    "label = \"GW190425\"\n"
   ]
  },
  {
   "cell_type": "code",
   "execution_count": 49,
   "id": "9d82a4ca-23be-4b24-ae67-ae951bfaa925",
   "metadata": {},
   "outputs": [],
   "source": [
    "# Note you can get trigger times using the gwosc package, e.g.\n",
    "# > from gwosc import datasets\n",
    "# > datasets.event_gps(\"GW190425\")\n",
    "trigger_time = 1240215503.0\n",
    "detectors = [\"L1\", \"V1\"]\n",
    "maximum_frequency = 512\n",
    "minimum_frequency = 20\n",
    "roll_off = 0.4  # Roll off duration of tukey window in seconds, default is 0.4s\n",
    "duration = 128  # Analysis segment duration\n",
    "post_trigger_duration = 2  # Time between trigger time and end of segment\n",
    "end_time = trigger_time + post_trigger_duration\n",
    "start_time = end_time - duration\n"
   ]
  },
  {
   "cell_type": "code",
   "execution_count": 50,
   "id": "ce0829a2-ea48-4b45-96dd-a31dc87600ae",
   "metadata": {},
   "outputs": [],
   "source": [
    "# The fiducial parameters are taken to me the max likelihood sample from the\n",
    "# posterior sample release of LIGO-Virgo\n",
    "# https://www.gw-openscience.org/eventapi/html/O3_Discovery_Papers/GW190425/\n",
    "# The fiducial parameters should always be in provided in the same basis as\n",
    "# the sampling basis. For example, if sampling in  `mass_1` and `mass_2` instead of\n",
    "# `chirp_mass` and `mass_ratio`, the fiducial parameters should also be provided in\n",
    "# `mass_1` and `mass_2` below.\n",
    "\n",
    "fiducial_parameters = {\n",
    "    \"a_1\": 0.018, #Had to comment these out since we had other priors. Changed, had to uncomment this and comment out the priros of a_1 and a_2? \n",
    "    \"a_2\": 0.016,\n",
    "    \"chirp_mass\": 1.48658,\n",
    "    \"dec\": 0.438,\n",
    "    \"geocent_time\": 1240215503.039,\n",
    "    \"lambda_1\": 446.941,\n",
    "    \"lambda_2\": 43.386,\n",
    "    \"luminosity_distance\": 206.751,\n",
    "    \"mass_ratio\": 0.8955,\n",
    "    \"phase\": 3.0136566567608765,\n",
    "    \"phi_12\": 4.319,\n",
    "    \"phi_jl\": 5.07,\n",
    "    \"psi\": 0.281,\n",
    "    \"ra\": 4.2,\n",
    "    \"theta_jn\": 0.185,\n",
    "    \"tilt_1\": 0.879,\n",
    "    \"tilt_2\": 0.514,\n",
    "}\n",
    "psd_duration = 1024\n",
    "psd_start_time = start_time - psd_duration\n",
    "psd_end_time = start_time\n"
   ]
  },
  {
   "cell_type": "code",
   "execution_count": 51,
   "id": "24e09416-c86f-45ab-b151-1f1efcae8833",
   "metadata": {},
   "outputs": [
    {
     "name": "stderr",
     "output_type": "stream",
     "text": [
      "00:17 bilby INFO    : Downloading analysis data for ifo L1\n",
      "00:17 bilby INFO    : Downloading psd data for ifo L1\n",
      "00:17 bilby INFO    : Downloading analysis data for ifo V1\n",
      "00:17 bilby INFO    : Downloading psd data for ifo V1\n",
      "00:17 bilby INFO    : Saving data plots to outdir\n",
      "00:17 bilby INFO    : Generating frequency domain strain from given time domain strain.\n",
      "00:17 bilby INFO    : Applying a tukey window with alpha=0.003125, roll off=0.2\n",
      "00:17 bilby INFO    : Generating frequency domain strain from given time domain strain.\n",
      "00:17 bilby INFO    : Applying a tukey window with alpha=0.003125, roll off=0.2\n"
     ]
    }
   ],
   "source": [
    "# We now use gwpy to obtain analysis and psd data and create the ifo_list\n",
    "ifo_list = bilby.gw.detector.InterferometerList([])\n",
    "for det in detectors:\n",
    "    logger.info(\"Downloading analysis data for ifo {}\".format(det))\n",
    "    ifo = bilby.gw.detector.get_empty_interferometer(det)\n",
    "    data = TimeSeries.fetch_open_data(det, start_time, end_time)\n",
    "    ifo.strain_data.set_from_gwpy_timeseries(data)\n",
    "\n",
    "    logger.info(\"Downloading psd data for ifo {}\".format(det))\n",
    "    psd_data = TimeSeries.fetch_open_data(det, psd_start_time, psd_end_time)\n",
    "    psd_alpha = 2 * roll_off / duration\n",
    "    psd = psd_data.psd(\n",
    "        fftlength=duration, overlap=0, window=(\"tukey\", psd_alpha), method=\"median\"\n",
    "    )\n",
    "    ifo.power_spectral_density = bilby.gw.detector.PowerSpectralDensity(\n",
    "        frequency_array=psd.frequencies.value, psd_array=psd.value\n",
    "    )\n",
    "    ifo.maximum_frequency = maximum_frequency\n",
    "    ifo.minimum_frequency = minimum_frequency\n",
    "    ifo_list.append(ifo)\n",
    "\n",
    "logger.info(\"Saving data plots to {}\".format(outdir))\n",
    "bilby.core.utils.check_directory_exists_and_if_not_mkdir(outdir)\n",
    "ifo_list.plot_data(outdir=outdir, label=label)\n"
   ]
  },
  {
   "cell_type": "code",
   "execution_count": 52,
   "id": "db37c80d-3ddc-41b2-a188-0bc61286d8ea",
   "metadata": {},
   "outputs": [],
   "source": [
    "# We now define the prior.\n",
    "# We have defined our prior distribution in a local file, GW190425.prior\n",
    "# The prior is printed to the terminal at run-time.\n",
    "# You can overwrite this using the syntax below in the file,\n",
    "# or choose a fixed value by just providing a float value as the prior.\n",
    "priors = bilby.gw.prior.BNSPriorDict(filename=\"GW190425.prior\")\n",
    "for key in [\n",
    "    \"psi\",\n",
    "    \"geocent_time\",\n",
    "    \"ra\",\n",
    "    \"dec\",\n",
    "    # \"chi_1\", #since I had to comment out the a_1 and a_2 due to errors from results i had to uncomment chi_1 and chi_2 back in \n",
    "    # \"chi_2\",\n",
    "    \"theta_jn\",\n",
    "    # \"luminosity_distance\", #ValueError: Cannot use marginalized likelihood for phase: prior is fixed\n",
    "    # \"phase\",\n",
    "]:\n",
    "    priors[key] = fiducial_parameters[key]\n",
    "del (\n",
    "    priors[\"lambda_1\"],\n",
    "    priors[\"lambda_2\"],\n",
    "    priors[\"mass_ratio\"],\n",
    ")\n",
    "\n",
    "\n",
    "priors[\"chirp_mass\"] = bilby.core.prior.Gaussian(\n",
    "    1.215, 0.1, name=\"chirp_mass\", unit=\"$M_{\\\\odot}$\"\n",
    ")\n",
    "priors[\"symmetric_mass_ratio\"] = bilby.core.prior.Uniform(\n",
    "    0.1, 0.25, name=\"symmetric_mass_ratio\"\n",
    ")\n",
    "\n",
    "# Using this prior will create lambda1 and lambda2. Outputs are funky\n",
    "priors[\"lambda_symmetric\"] = bilby.core.prior.Uniform(0, 5000, name=\"lambda_symmetric\")\n",
    "\n",
    "priors[\"binary_love_uniform\"] = bilby.core.prior.Uniform(\n",
    "    0, 1, name=\"binary_love_uniform\"\n",
    ")\n",
    "\n",
    "priors[\"lambda_1\"] = bilby.core.prior.Constraint(\n",
    "    name=\"lambda_1\", minimum=0, maximum=10000\n",
    ")\n",
    "priors[\"lambda_2\"] = bilby.core.prior.Constraint(\n",
    "    name=\"lambda_2\", minimum=0, maximum=10000\n",
    ")\n",
    "##Going to comment this out because ValueError: Cannot use marginalized likelihood for phase: prior is fixed\n",
    "\n",
    "priors[\"phase\"] = bilby.core.prior.Uniform(\n",
    "    0, 2 * np.pi, boundary=\"periodic\", name=\"phase\"\n",
    ")\n",
    "\n",
    "\n",
    "# #Had to comment this out. Since i got errors with results variable\n",
    "# priors[\"a_1\"] = bilby.core.prior.Constraint(\n",
    "#     name=\"a_1\", minimum=0, maximum=0.05\n",
    "# )\n",
    "# priors[\"a_2\"] = bilby.core.prior.Constraint(\n",
    "#     name=\"a_2\", minimum=0, maximum=0.05\n",
    "# )\n",
    "\n",
    "# Add the geocent time prior\n",
    "priors[\"geocent_time\"] = bilby.core.prior.Uniform(\n",
    "    trigger_time - 0.1, trigger_time + 0.1, name=\"geocent_time\"\n",
    ")"
   ]
  },
  {
   "cell_type": "code",
   "execution_count": 53,
   "id": "2658e54d-98b4-48a0-b875-34c35ce3a49c",
   "metadata": {},
   "outputs": [
    {
     "name": "stderr",
     "output_type": "stream",
     "text": [
      "00:17 bilby INFO    : Waveform generator initiated with\n",
      "  frequency_domain_source_model: bilby.gw.source.lal_binary_neutron_star\n",
      "  time_domain_source_model: None\n",
      "  parameter_conversion: bilby.gw.conversion.convert_to_lal_binary_neutron_star_parameters\n"
     ]
    }
   ],
   "source": [
    "# In this step we define a `waveform_generator`. This is the object which\n",
    "# creates the frequency-domain strain. In this instance, we are using the\n",
    "# `lal_binary_black_hole model` source model. We also pass other parameters:\n",
    "# the waveform approximant and reference frequency and a parameter conversion\n",
    "# which allows us to sample in chirp mass and ratio rather than component mass\n",
    "\n",
    "# Set the duration and sampling frequency of the data segment that we're going\n",
    "# to inject the signal into. For the\n",
    "# TaylorF2 waveform, we cut the signal close to the isco frequency\n",
    "duration = 32\n",
    "sampling_frequency = 4096  # 2048 #4096 changed for later. we need faster test runs\n",
    "\n",
    "#Removed since it was used previously in a cell above \n",
    "# start_time = injection_parameters[\"geocent_time\"] + 2 - duration \n",
    "\n",
    "\n",
    "# Fixed arguments passed into the source model. The analysis starts at 40 Hz.\n",
    "waveform_arguments = dict(\n",
    "    waveform_approximant=\"IMRPhenomPv2_NRTidal\",  # IMRPhenomPv2_NRTidal\n",
    "    reference_frequency=50.0,\n",
    "    minimum_frequency=40.0,\n",
    ")\n",
    "\n",
    "\n",
    "# Create the waveform_generator using a LAL Binary Neutron Star source function\n",
    "waveform_generator = bilby.gw.WaveformGenerator(\n",
    "    duration=duration,\n",
    "    sampling_frequency=sampling_frequency,\n",
    "    frequency_domain_source_model=bilby.gw.source.lal_binary_neutron_star,\n",
    "    parameter_conversion=bilby.gw.conversion.convert_to_lal_binary_neutron_star_parameters,\n",
    "    waveform_arguments=waveform_arguments,\n",
    ")\n"
   ]
  },
  {
   "cell_type": "code",
   "execution_count": 54,
   "id": "a6c42657-c7b3-4a2e-9aab-ce8e4c420240",
   "metadata": {},
   "outputs": [
    {
     "name": "stderr",
     "output_type": "stream",
     "text": [
      "00:17 bilby INFO    : Loaded distance marginalisation lookup table from .distance_marginalization_lookup.npz.\n"
     ]
    }
   ],
   "source": [
    "# In this step, we define the likelihood. Here we use the standard likelihood\n",
    "# function, passing it the data and the waveform generator.\n",
    "# Note, phase_marginalization is formally invalid with a precessing waveform such as IMRPhenomPv2\n",
    "# likelihood = bilby.gw.likelihood.RelativeBinningGravitationalWaveTransient(\n",
    "#     ifo_list,\n",
    "#     waveform_generator,\n",
    "#     priors=priors,\n",
    "#     time_marginalization=False,\n",
    "#     phase_marginalization=True,\n",
    "#     distance_marginalization=True,\n",
    "#     # fiducial_parameters=fiducial_parameters,\n",
    "# )\n",
    "\n",
    "\n",
    "likelihood = bilby.gw.GravitationalWaveTransient(\n",
    "    ifo_list,\n",
    "    waveform_generator,\n",
    "    priors=priors,\n",
    "    time_marginalization=False,\n",
    "    phase_marginalization=True,\n",
    "    distance_marginalization=True,\n",
    "    # fiducial_parameters=fiducial_parameters,\n",
    ")\n",
    "\n",
    "\n",
    "# likelihood = bilby.gw.GravitationalWaveTransient(\n",
    "#     interferometers=detectors,\n",
    "#     waveform_generator=waveform_generator,\n",
    "#     phase_marginalization=True,\n",
    "#     priors=priors,\n",
    "# )"
   ]
  },
  {
   "cell_type": "code",
   "execution_count": 57,
   "id": "fd4e9e35-9c04-40c3-8eac-73b34f51ba45",
   "metadata": {},
   "outputs": [
    {
     "name": "stderr",
     "output_type": "stream",
     "text": [
      "00:24 bilby INFO    : Running for label 'GW190425', output will be saved to 'outdir'\n",
      "00:24 bilby INFO    : Performing redundancy check using BBHPriorDict(self).test_redundancy\n",
      "00:24 bilby INFO    : Performing redundancy check using BBHPriorDict(self).test_redundancy\n",
      "00:24 bilby INFO    : Performing redundancy check using BBHPriorDict(self).test_redundancy\n",
      "00:24 bilby INFO    : Performing redundancy check using BBHPriorDict(self).test_redundancy\n",
      "00:24 bilby INFO    : Performing redundancy check using BBHPriorDict(self).test_redundancy\n",
      "00:24 bilby INFO    : Performing redundancy check using BBHPriorDict(self).test_redundancy\n",
      "00:24 bilby INFO    : Performing redundancy check using BBHPriorDict(self).test_redundancy\n",
      "00:24 bilby INFO    : Performing redundancy check using BBHPriorDict(self).test_redundancy\n",
      "00:24 bilby INFO    : Performing redundancy check using BBHPriorDict(self).test_redundancy\n",
      "00:24 bilby INFO    : Performing redundancy check using BBHPriorDict(self).test_redundancy\n",
      "00:24 bilby INFO    : Performing redundancy check using BBHPriorDict(self).test_redundancy\n",
      "00:24 bilby INFO    : Performing redundancy check using BBHPriorDict(self).test_redundancy\n",
      "00:24 bilby INFO    : Performing redundancy check using BBHPriorDict(self).test_redundancy\n",
      "00:24 bilby INFO    : Performing redundancy check using BBHPriorDict(self).test_redundancy\n",
      "00:24 bilby INFO    : Performing redundancy check using BBHPriorDict(self).test_redundancy\n",
      "00:24 bilby INFO    : Performing redundancy check using BBHPriorDict(self).test_redundancy\n",
      "00:24 bilby INFO    : Performing redundancy check using BBHPriorDict(self).test_redundancy\n",
      "00:24 bilby INFO    : Performing redundancy check using BBHPriorDict(self).test_redundancy\n",
      "00:24 bilby INFO    : Performing redundancy check using BBHPriorDict(self).test_redundancy\n",
      "00:24 bilby INFO    : Performing redundancy check using BBHPriorDict(self).test_redundancy\n",
      "00:24 bilby INFO    : Performing redundancy check using BBHPriorDict(self).test_redundancy\n",
      "00:24 bilby INFO    : Using lal version 7.2.4\n",
      "00:24 bilby INFO    : Using lal git version Branch: None;Tag: lal-v7.2.4;Id: e5e51f77cbaf264a20a620b4acefbe7ac38c84c6;;Builder: Adam Mercer <adam.mercer@ligo.org>;Repository status: CLEAN: All modifications committed\n",
      "00:24 bilby INFO    : Using lalsimulation version 4.0.2\n",
      "00:24 bilby INFO    : Using lalsimulation git version Branch: None;Tag: lalsimulation-v4.0.2;Id: 233cc3963d87688c272b7affe7dd0b962e4c11a0;;Builder: Adam Mercer <adam.mercer@ligo.org>;Repository status: CLEAN: All modifications committed\n",
      "00:24 bilby INFO    : Search parameters:\n",
      "00:24 bilby INFO    :   chirp_mass = Gaussian(mu=1.215, sigma=0.1, name='chirp_mass', latex_label='$\\\\mathcal{M}$', unit='$M_{\\\\odot}$', boundary=None)\n",
      "00:24 bilby INFO    :   a_1 = Uniform(minimum=0, maximum=0.05, name='a_1', latex_label='$a_1$', unit=None, boundary=None)\n",
      "00:24 bilby INFO    :   a_2 = Uniform(minimum=0, maximum=0.05, name='a_2', latex_label='$a_2$', unit=None, boundary=None)\n",
      "00:24 bilby INFO    :   tilt_1 = Sine(minimum=0, maximum=3.141592653589793, name='tilt_1', latex_label='$\\\\theta_1$', unit=None, boundary=None)\n",
      "00:24 bilby INFO    :   tilt_2 = Sine(minimum=0, maximum=3.141592653589793, name='tilt_2', latex_label='$\\\\theta_2$', unit=None, boundary=None)\n",
      "00:24 bilby INFO    :   phi_12 = Uniform(minimum=0, maximum=6.283185307179586, name='phi_12', latex_label='$\\\\Delta\\\\phi$', unit=None, boundary='periodic')\n",
      "00:24 bilby INFO    :   phi_jl = Uniform(minimum=0, maximum=6.283185307179586, name='phi_jl', latex_label='$\\\\phi_{JL}$', unit=None, boundary='periodic')\n",
      "00:24 bilby INFO    :   geocent_time = Uniform(minimum=1240215502.9, maximum=1240215503.1, name='geocent_time', latex_label='$t_c$', unit=None, boundary=None)\n",
      "00:24 bilby INFO    :   symmetric_mass_ratio = Uniform(minimum=0.1, maximum=0.25, name='symmetric_mass_ratio', latex_label='$\\\\eta$', unit=None, boundary=None)\n",
      "00:24 bilby INFO    :   lambda_symmetric = Uniform(minimum=0, maximum=5000, name='lambda_symmetric', latex_label='lambda_symmetric', unit=None, boundary=None)\n",
      "00:24 bilby INFO    :   binary_love_uniform = Uniform(minimum=0, maximum=1, name='binary_love_uniform', latex_label='binary_love_uniform', unit=None, boundary=None)\n",
      "00:24 bilby INFO    :   mass_1 = Constraint(minimum=1, maximum=2.5, name='mass_1', latex_label='$m_1$', unit=None)\n",
      "00:24 bilby INFO    :   mass_2 = Constraint(minimum=1, maximum=2.5, name='mass_2', latex_label='$m_2$', unit=None)\n",
      "00:24 bilby INFO    :   lambda_1 = Constraint(minimum=0, maximum=10000, name='lambda_1', latex_label='$\\\\Lambda_1$', unit=None)\n",
      "00:24 bilby INFO    :   lambda_2 = Constraint(minimum=0, maximum=10000, name='lambda_2', latex_label='$\\\\Lambda_2$', unit=None)\n",
      "00:24 bilby INFO    :   luminosity_distance = 793.7007905508533\n",
      "00:24 bilby INFO    :   dec = 0.438\n",
      "00:24 bilby INFO    :   ra = 4.2\n",
      "00:24 bilby INFO    :   theta_jn = 0.185\n",
      "00:24 bilby INFO    :   psi = 0.281\n",
      "00:24 bilby INFO    :   phase = 0.0\n",
      "00:25 bilby INFO    : Single likelihood evaluation took 5.229e-01 s\n"
     ]
    },
    {
     "data": {
      "application/vnd.jupyter.widget-view+json": {
       "model_id": "9262ad88c4de4b7597b56e225a56e161",
       "version_major": 2,
       "version_minor": 0
      },
      "text/plain": [
       "0it [00:00, ?it/s]"
      ]
     },
     "metadata": {},
     "output_type": "display_data"
    },
    {
     "name": "stderr",
     "output_type": "stream",
     "text": [
      "00:25 bilby INFO    : Using sampler Dynesty with kwargs {'bound': 'multi', 'sample': 'rwalk', 'print_progress': True, 'periodic': None, 'reflective': None, 'check_point_delta_t': 1800, 'nlive': 100, 'first_update': None, 'walks': 100, 'npdim': None, 'rstate': None, 'queue_size': 1, 'pool': None, 'use_pool': None, 'live_points': None, 'logl_args': None, 'logl_kwargs': None, 'ptform_args': None, 'ptform_kwargs': None, 'enlarge': 1.5, 'bootstrap': None, 'vol_dec': 0.5, 'vol_check': 8.0, 'facc': 0.2, 'slices': 5, 'update_interval': 60, 'print_func': <bound method Dynesty._print_func of <bilby.core.sampler.dynesty.Dynesty object at 0x7fdf35ceb760>>, 'dlogz': 0.1, 'maxiter': None, 'maxcall': None, 'logl_max': inf, 'add_live': True, 'save_bounds': False, 'n_effective': None, 'maxmcmc': 5000, 'nact': 5, 'print_method': 'tqdm'}\n",
      "00:25 bilby INFO    : Checkpoint every check_point_delta_t = 600s\n",
      "00:25 bilby INFO    : Using dynesty version 2.1.0\n",
      "00:25 bilby INFO    : Using the bilby-implemented rwalk sample method with ACT estimated walks\n",
      "00:25 bilby INFO    : Resume file outdir/GW190425_resume.pickle does not exist.\n",
      "00:25 bilby INFO    : Generating initial points from the prior\n"
     ]
    },
    {
     "name": "stdout",
     "output_type": "stream",
     "text": [
      "No version information file '.version' found\n"
     ]
    },
    {
     "ename": "TypeError",
     "evalue": "__new__() got an unexpected keyword argument 'check_point_delta_t'",
     "output_type": "error",
     "traceback": [
      "\u001b[0;31m---------------------------------------------------------------------------\u001b[0m",
      "\u001b[0;31mTypeError\u001b[0m                                 Traceback (most recent call last)",
      "Cell \u001b[0;32mIn[57], line 3\u001b[0m\n\u001b[1;32m      1\u001b[0m \u001b[38;5;66;03m# Finally, we run the sampler. This function takes the likelihood and prior\u001b[39;00m\n\u001b[1;32m      2\u001b[0m \u001b[38;5;66;03m# along with some options for how to do the sampling and how to save the data\u001b[39;00m\n\u001b[0;32m----> 3\u001b[0m result \u001b[38;5;241m=\u001b[39m \u001b[43mbilby\u001b[49m\u001b[38;5;241;43m.\u001b[39;49m\u001b[43mrun_sampler\u001b[49m\u001b[43m(\u001b[49m\n\u001b[1;32m      4\u001b[0m \u001b[43m    \u001b[49m\u001b[43mlikelihood\u001b[49m\u001b[43m,\u001b[49m\n\u001b[1;32m      5\u001b[0m \u001b[43m    \u001b[49m\u001b[43mpriors\u001b[49m\u001b[43m,\u001b[49m\n\u001b[1;32m      6\u001b[0m \u001b[43m    \u001b[49m\u001b[43msampler\u001b[49m\u001b[38;5;241;43m=\u001b[39;49m\u001b[38;5;124;43m\"\u001b[39;49m\u001b[38;5;124;43mdynesty\u001b[39;49m\u001b[38;5;124;43m\"\u001b[39;49m\u001b[43m,\u001b[49m\u001b[43m \u001b[49m\u001b[38;5;66;43;03m#Orignally i was using nestler \u001b[39;49;00m\n\u001b[1;32m      7\u001b[0m \u001b[43m    \u001b[49m\u001b[43moutdir\u001b[49m\u001b[38;5;241;43m=\u001b[39;49m\u001b[43moutdir\u001b[49m\u001b[43m,\u001b[49m\n\u001b[1;32m      8\u001b[0m \u001b[43m    \u001b[49m\u001b[43mlabel\u001b[49m\u001b[38;5;241;43m=\u001b[39;49m\u001b[43mlabel\u001b[49m\u001b[43m,\u001b[49m\n\u001b[1;32m      9\u001b[0m \u001b[43m    \u001b[49m\u001b[43mnlive\u001b[49m\u001b[38;5;241;43m=\u001b[39;49m\u001b[38;5;241;43m100\u001b[39;49m\u001b[43m,\u001b[49m\u001b[43m \u001b[49m\u001b[38;5;66;43;03m#changed from 1000 to 100 to see if i save on time? Been having errors late in the run and i want to see them sooner \u001b[39;49;00m\n\u001b[1;32m     10\u001b[0m \u001b[43m    \u001b[49m\u001b[43mcheck_point_plot\u001b[49m\u001b[38;5;241;43m=\u001b[39;49m\u001b[38;5;28;43;01mTrue\u001b[39;49;00m\u001b[43m,\u001b[49m\n\u001b[1;32m     11\u001b[0m \u001b[43m    \u001b[49m\u001b[43mnpool\u001b[49m\u001b[38;5;241;43m=\u001b[39;49m\u001b[38;5;241;43m1\u001b[39;49m\u001b[43m,\u001b[49m\n\u001b[1;32m     12\u001b[0m \u001b[43m    \u001b[49m\u001b[43mconversion_function\u001b[49m\u001b[38;5;241;43m=\u001b[39;49m\u001b[43mbilby\u001b[49m\u001b[38;5;241;43m.\u001b[39;49m\u001b[43mgw\u001b[49m\u001b[38;5;241;43m.\u001b[39;49m\u001b[43mconversion\u001b[49m\u001b[38;5;241;43m.\u001b[39;49m\u001b[43mgenerate_all_bns_parameters\u001b[49m\u001b[43m,\u001b[49m\n\u001b[1;32m     13\u001b[0m \u001b[43m)\u001b[49m\n\u001b[1;32m     14\u001b[0m result\u001b[38;5;241m.\u001b[39mplot_corner()\n",
      "File \u001b[0;32m~/bilby/bilby/core/sampler/__init__.py:233\u001b[0m, in \u001b[0;36mrun_sampler\u001b[0;34m(likelihood, priors, label, outdir, sampler, use_ratio, injection_parameters, conversion_function, plot, default_priors_file, clean, meta_data, save, gzip, result_class, npool, **kwargs)\u001b[0m\n\u001b[1;32m    231\u001b[0m     result \u001b[38;5;241m=\u001b[39m sampler\u001b[38;5;241m.\u001b[39m_run_test()\n\u001b[1;32m    232\u001b[0m \u001b[38;5;28;01melse\u001b[39;00m:\n\u001b[0;32m--> 233\u001b[0m     result \u001b[38;5;241m=\u001b[39m \u001b[43msampler\u001b[49m\u001b[38;5;241;43m.\u001b[39;49m\u001b[43mrun_sampler\u001b[49m\u001b[43m(\u001b[49m\u001b[43m)\u001b[49m\n\u001b[1;32m    234\u001b[0m end_time \u001b[38;5;241m=\u001b[39m datetime\u001b[38;5;241m.\u001b[39mdatetime\u001b[38;5;241m.\u001b[39mnow()\n\u001b[1;32m    236\u001b[0m \u001b[38;5;66;03m# Some samplers calculate the sampling time internally\u001b[39;00m\n",
      "File \u001b[0;32m~/bilby/bilby/core/sampler/base_sampler.py:97\u001b[0m, in \u001b[0;36msignal_wrapper.<locals>.wrapped\u001b[0;34m(self, *args, **kwargs)\u001b[0m\n\u001b[1;32m     91\u001b[0m     _set \u001b[38;5;241m=\u001b[39m \u001b[38;5;28;01mFalse\u001b[39;00m\n\u001b[1;32m     92\u001b[0m     logger\u001b[38;5;241m.\u001b[39mdebug(\n\u001b[1;32m     93\u001b[0m         \u001b[38;5;124m\"\u001b[39m\u001b[38;5;124mSetting signal attributes unavailable on this system. \u001b[39m\u001b[38;5;124m\"\u001b[39m\n\u001b[1;32m     94\u001b[0m         \u001b[38;5;124m\"\u001b[39m\u001b[38;5;124mThis is likely the case if you are running on a Windows machine \u001b[39m\u001b[38;5;124m\"\u001b[39m\n\u001b[1;32m     95\u001b[0m         \u001b[38;5;124m\"\u001b[39m\u001b[38;5;124mand can be safely ignored.\u001b[39m\u001b[38;5;124m\"\u001b[39m\n\u001b[1;32m     96\u001b[0m     )\n\u001b[0;32m---> 97\u001b[0m output \u001b[38;5;241m=\u001b[39m \u001b[43mmethod\u001b[49m\u001b[43m(\u001b[49m\u001b[38;5;28;43mself\u001b[39;49m\u001b[43m,\u001b[49m\u001b[43m \u001b[49m\u001b[38;5;241;43m*\u001b[39;49m\u001b[43margs\u001b[49m\u001b[43m,\u001b[49m\u001b[43m \u001b[49m\u001b[38;5;241;43m*\u001b[39;49m\u001b[38;5;241;43m*\u001b[39;49m\u001b[43mkwargs\u001b[49m\u001b[43m)\u001b[49m\n\u001b[1;32m     98\u001b[0m \u001b[38;5;28;01mif\u001b[39;00m _set:\n\u001b[1;32m     99\u001b[0m     signal\u001b[38;5;241m.\u001b[39msignal(signal\u001b[38;5;241m.\u001b[39mSIGTERM, old_term)\n",
      "File \u001b[0;32m~/bilby/bilby/core/sampler/dynesty.py:411\u001b[0m, in \u001b[0;36mDynesty.run_sampler\u001b[0;34m(self)\u001b[0m\n\u001b[1;32m    407\u001b[0m     \u001b[38;5;28;01mif\u001b[39;00m \u001b[38;5;28mself\u001b[39m\u001b[38;5;241m.\u001b[39mkwargs[\u001b[38;5;124m\"\u001b[39m\u001b[38;5;124mlive_points\u001b[39m\u001b[38;5;124m\"\u001b[39m] \u001b[38;5;129;01mis\u001b[39;00m \u001b[38;5;28;01mNone\u001b[39;00m:\n\u001b[1;32m    408\u001b[0m         \u001b[38;5;28mself\u001b[39m\u001b[38;5;241m.\u001b[39mkwargs[\u001b[38;5;124m\"\u001b[39m\u001b[38;5;124mlive_points\u001b[39m\u001b[38;5;124m\"\u001b[39m] \u001b[38;5;241m=\u001b[39m \u001b[38;5;28mself\u001b[39m\u001b[38;5;241m.\u001b[39mget_initial_points_from_prior(\n\u001b[1;32m    409\u001b[0m             \u001b[38;5;28mself\u001b[39m\u001b[38;5;241m.\u001b[39mkwargs[\u001b[38;5;124m\"\u001b[39m\u001b[38;5;124mnlive\u001b[39m\u001b[38;5;124m\"\u001b[39m]\n\u001b[1;32m    410\u001b[0m         )\n\u001b[0;32m--> 411\u001b[0m     \u001b[38;5;28mself\u001b[39m\u001b[38;5;241m.\u001b[39msampler \u001b[38;5;241m=\u001b[39m \u001b[43mdynesty\u001b[49m\u001b[38;5;241;43m.\u001b[39;49m\u001b[43mNestedSampler\u001b[49m\u001b[43m(\u001b[49m\n\u001b[1;32m    412\u001b[0m \u001b[43m        \u001b[49m\u001b[43mloglikelihood\u001b[49m\u001b[38;5;241;43m=\u001b[39;49m\u001b[43m_log_likelihood_wrapper\u001b[49m\u001b[43m,\u001b[49m\n\u001b[1;32m    413\u001b[0m \u001b[43m        \u001b[49m\u001b[43mprior_transform\u001b[49m\u001b[38;5;241;43m=\u001b[39;49m\u001b[43m_prior_transform_wrapper\u001b[49m\u001b[43m,\u001b[49m\n\u001b[1;32m    414\u001b[0m \u001b[43m        \u001b[49m\u001b[43mndim\u001b[49m\u001b[38;5;241;43m=\u001b[39;49m\u001b[38;5;28;43mself\u001b[39;49m\u001b[38;5;241;43m.\u001b[39;49m\u001b[43mndim\u001b[49m\u001b[43m,\u001b[49m\n\u001b[1;32m    415\u001b[0m \u001b[43m        \u001b[49m\u001b[38;5;241;43m*\u001b[39;49m\u001b[38;5;241;43m*\u001b[39;49m\u001b[38;5;28;43mself\u001b[39;49m\u001b[38;5;241;43m.\u001b[39;49m\u001b[43msampler_init_kwargs\u001b[49m\u001b[43m,\u001b[49m\n\u001b[1;32m    416\u001b[0m \u001b[43m    \u001b[49m\u001b[43m)\u001b[49m\n\u001b[1;32m    418\u001b[0m \u001b[38;5;28mself\u001b[39m\u001b[38;5;241m.\u001b[39mstart_time \u001b[38;5;241m=\u001b[39m datetime\u001b[38;5;241m.\u001b[39mdatetime\u001b[38;5;241m.\u001b[39mnow()\n\u001b[1;32m    419\u001b[0m \u001b[38;5;28;01mif\u001b[39;00m \u001b[38;5;28mself\u001b[39m\u001b[38;5;241m.\u001b[39mcheck_point:\n",
      "\u001b[0;31mTypeError\u001b[0m: __new__() got an unexpected keyword argument 'check_point_delta_t'"
     ]
    }
   ],
   "source": [
    "# Finally, we run the sampler. This function takes the likelihood and prior\n",
    "# along with some options for how to do the sampling and how to save the data\n",
    "result = bilby.run_sampler(\n",
    "    likelihood,\n",
    "    priors,\n",
    "    sampler=\"dynesty\", #Orignally i was using nestler \n",
    "    outdir=outdir,\n",
    "    label=label,\n",
    "    nlive=100, #changed from 1000 to 100 to see if i save on time? Been having errors late in the run and i want to see them sooner \n",
    "    check_point_plot=True,\n",
    "    npool=1,\n",
    "    conversion_function=bilby.gw.conversion.generate_all_bns_parameters,\n",
    ")\n",
    "result.plot_corner()\n"
   ]
  },
  {
   "cell_type": "code",
   "execution_count": null,
   "id": "f4160d62-8627-421d-989e-c7a93a626cae",
   "metadata": {},
   "outputs": [],
   "source": [
    "# This is confusing, since lambda1 and lambda2 does not appear in the posterior samples. But does plot.\n",
    "# The next cell proves that lambda1 and lambda2 are not in the results.posterior samples.\n",
    "result.posterior['lambda1'] = result.posterior.apply(lambda row :\n",
    "        bilby.gw.conversion.binary_love_lambda_symmetric_to_lambda_1_lambda_2_manual_marginalisation(\n",
    "                row['binary_love_uniform'],row['lambda_symmetric'],row['symmetric_mass_ratio']\n",
    "                )[0], axis = 1)\n",
    "\n",
    "result.posterior['lambda2'] = result.posterior.apply(lambda row :\n",
    "        bilby.gw.conversion.binary_love_lambda_symmetric_to_lambda_1_lambda_2_manual_marginalisation(\n",
    "                row['binary_love_uniform'],row['lambda_symmetric'],row['symmetric_mass_ratio']\n",
    "                )[1], axis = 1)\n",
    "\n",
    "sns.kdeplot(\n",
    "    x=result.posterior[\"lambda_1\"],\n",
    "    y=result.posterior[\"lambda_2\"],\n",
    "    color=\"green\",\n",
    "    label=\"Binary_love_&_LambdaSymm\",\n",
    ")\n",
    "\n",
    "####\n",
    "# title\n",
    "plt.title(\"Universal Realtions Accuracy\")\n",
    "\n",
    "# lambda 2 y\n",
    "plt.axhline(y=result.injection_parameters[\"lambda_2\"], color=\"orange\", linestyle=\"-\")\n",
    "# lambda 2 x\n",
    "plt.axvline(x=result.injection_parameters[\"lambda_1\"], color=\"orange\")\n",
    "# Add the point\n",
    "plt.scatter(\n",
    "    result.injection_parameters[\"lambda_1\"],\n",
    "    result.injection_parameters[\"lambda_2\"],\n",
    "    color=\"orange\",\n",
    ")\n",
    "\n",
    "plt.show()"
   ]
  },
  {
   "cell_type": "code",
   "execution_count": null,
   "id": "1752404b-7afc-4268-86cc-cdba24528300",
   "metadata": {},
   "outputs": [],
   "source": [
    "# print(result.posterior)"
   ]
  },
  {
   "cell_type": "code",
   "execution_count": null,
   "id": "76e9cc7e-27f6-42d8-a82b-6c6a7442f51c",
   "metadata": {},
   "outputs": [],
   "source": [
    "#    check_point_delta_t=600,"
   ]
  }
 ],
 "metadata": {
  "kernelspec": {
   "display_name": "igwn-py39",
   "language": "python",
   "name": "igwn-py39"
  },
  "language_info": {
   "codemirror_mode": {
    "name": "ipython",
    "version": 3
   },
   "file_extension": ".py",
   "mimetype": "text/x-python",
   "name": "python",
   "nbconvert_exporter": "python",
   "pygments_lexer": "ipython3",
   "version": "3.9.16"
  }
 },
 "nbformat": 4,
 "nbformat_minor": 5
}
