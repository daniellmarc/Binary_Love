{
 "cells": [
  {
   "cell_type": "code",
   "execution_count": 1,
   "id": "4defeee0-c063-4250-80eb-ae6fe6c00a61",
   "metadata": {},
   "outputs": [
    {
     "name": "stdout",
     "output_type": "stream",
     "text": [
      "No version information file '.version' found\n"
     ]
    }
   ],
   "source": [
    "import sys\n",
    "sys.path.insert(0,'/home/marc.penuliar/bilby') \n",
    "import bilby\n",
    "import numpy as np\n",
    "import seaborn as sns \n",
    "import matplotlib.pyplot as plt\n",
    "import matplotlib.lines as mlines"
   ]
  },
  {
   "cell_type": "code",
   "execution_count": 13,
   "id": "a8f9b216-6efb-4944-9ff2-0aa1f95ec44f",
   "metadata": {},
   "outputs": [],
   "source": [
    "import pandas as pd\n",
    "import corner #Uses matplotlib to visualize multidimensional samples using a scatterplot matrix\n",
    "# import arviz \n",
    "import pandas as pd"
   ]
  },
  {
   "cell_type": "code",
   "execution_count": 3,
   "id": "a4f7b6e1-292d-4d16-a3df-1e0ffeba8216",
   "metadata": {},
   "outputs": [],
   "source": [
    "#Carls_Bilby_Example_Code. Put these into the renaming \n",
    "# result_1 = bilby.result.read_in_result(filename='lambdatilde_deltalambdatilde/outdir/New_Example_Code_result.json') #Bilby_Example_Code_Carls_Import\n",
    "\n",
    "#lambdaSymm_lambdaASymm\n",
    "# result_2 = bilby.result.read_in_result(filename='lambdaSymm_lambdaASymm/outdir/lambdaSymm_lambdaASymm_result.json') #lambdaSymm_lambdaASymm\n",
    "\n",
    "#BinaryLove_lambdaSymm\n",
    "result_3 = bilby.result.read_in_result(filename='binary_love_Symm/outdir/BinaryLove_lambdaSymm_result.json') #Binary_love_Symm\n",
    "    \n",
    "#No need to have the renaming. This is the original\n",
    "# result_4 = bilby.result.read_in_result(filename='Original_Example/outdir/bns_example_result.json') #Orignial_Bilby_Example_Code"
   ]
  },
  {
   "cell_type": "code",
   "execution_count": 38,
   "id": "2ab5a3d8-8dd6-43ee-ae1f-66b8c562be69",
   "metadata": {},
   "outputs": [],
   "source": [
    "# print(result_3)"
   ]
  },
  {
   "cell_type": "code",
   "execution_count": null,
   "id": "d0351671-caf3-441e-9f8e-8ef7bb398c1e",
   "metadata": {},
   "outputs": [
    {
     "name": "stderr",
     "output_type": "stream",
     "text": [
      "WARNING:root:Pandas support in corner is deprecated; use ArviZ directly\n"
     ]
    }
   ],
   "source": [
    "data1 = pd.DataFrame(result_3.posterior)\n",
    "# data = pd.DataFrame(result_3.posterior[\"chirp_mass\"])\n",
    "# print(data1)\n",
    "cmap = plt.cm.get_cmap('Set2', 6) #cmap(0)\n",
    "figure = corner.corner(data1,var_names = [\"chirp_mass\",\"symmetric_mass_ratio\",\"lambda_tilde\",\"chi_eff\" ],color = cmap(0),)"
   ]
  },
  {
   "cell_type": "code",
   "execution_count": 15,
   "id": "168f196d-a35b-4294-b63c-6f484dd89c99",
   "metadata": {},
   "outputs": [],
   "source": [
    "# cmap = plt.cm.get_cmap('Set2', 6) #cmap(0)"
   ]
  },
  {
   "cell_type": "code",
   "execution_count": null,
   "id": "c2ce773d-5cc8-43cf-990e-76e475411483",
   "metadata": {},
   "outputs": [],
   "source": []
  },
  {
   "cell_type": "code",
   "execution_count": null,
   "id": "1f5b5a5f-8ecd-4dd6-8b34-d453d38389e2",
   "metadata": {},
   "outputs": [],
   "source": []
  }
 ],
 "metadata": {
  "kernelspec": {
   "display_name": "igwn-py39",
   "language": "python",
   "name": "igwn-py39"
  },
  "language_info": {
   "codemirror_mode": {
    "name": "ipython",
    "version": 3
   },
   "file_extension": ".py",
   "mimetype": "text/x-python",
   "name": "python",
   "nbconvert_exporter": "python",
   "pygments_lexer": "ipython3",
   "version": "3.9.13"
  }
 },
 "nbformat": 4,
 "nbformat_minor": 5
}
