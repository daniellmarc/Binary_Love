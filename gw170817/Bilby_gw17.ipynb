{
 "cells": [
  {
   "cell_type": "code",
   "execution_count": 3,
   "id": "deb2e4fa-a75c-47fe-a1bf-18c592bf379e",
   "metadata": {},
   "outputs": [],
   "source": [
    "#!/usr/bin/env python\n",
    "\"\"\"\n",
    "Tutorial to demonstrate running parameter estimation on GW190425.\n",
    "\n",
    "This example estimates all 17 parameters of the binary neutron star system using\n",
    "commonly used prior distributions. We shall use the relative binning likelihood.\n",
    "This will take around an hour to run. The data is obtained using gwpy,\n",
    "see [1] for information on how to access data on the LIGO Data Grid instead.\n",
    "\n",
    "[1] https://gwpy.github.io/docs/stable/timeseries/remote-access.html\n",
    "\"\"\"\n",
    "import bilby\n",
    "from gwpy.timeseries import TimeSeries\n"
   ]
  },
  {
   "cell_type": "code",
   "execution_count": 4,
   "id": "45680ee2-247b-406b-acd3-bbd946db2807",
   "metadata": {},
   "outputs": [],
   "source": [
    "logger = bilby.core.utils.logger\n",
    "outdir = \"outdir\"\n",
    "label = \"GW190425\"\n"
   ]
  },
  {
   "cell_type": "code",
   "execution_count": 5,
   "id": "bdf4633f-329f-4860-89da-a31c9a8c1543",
   "metadata": {},
   "outputs": [],
   "source": [
    "# Note you can get trigger times using the gwosc package, e.g.\n",
    "# > from gwosc import datasets\n",
    "# > datasets.event_gps(\"GW190425\")\n",
    "trigger_time = 1240215503.0\n",
    "detectors = [\"L1\", \"V1\"]\n",
    "maximum_frequency = 512\n",
    "minimum_frequency = 20\n",
    "roll_off = 0.4  # Roll off duration of tukey window in seconds, default is 0.4s\n",
    "duration = 128  # Analysis segment duration\n",
    "post_trigger_duration = 2  # Time between trigger time and end of segment\n",
    "end_time = trigger_time + post_trigger_duration\n",
    "start_time = end_time - duration"
   ]
  },
  {
   "cell_type": "code",
   "execution_count": 6,
   "id": "91eb4bb5-7b18-48b4-8b7f-c0f6a75d94bd",
   "metadata": {},
   "outputs": [],
   "source": [
    "# The fiducial parameters are taken to me the max likelihood sample from the\n",
    "# posterior sample release of LIGO-Virgo\n",
    "# https://www.gw-openscience.org/eventapi/html/O3_Discovery_Papers/GW190425/\n",
    "# The fiducial parameters should always be in provided in the same basis as\n",
    "# the sampling basis. For example, if sampling in  `mass_1` and `mass_2` instead of\n",
    "# `chirp_mass` and `mass_ratio`, the fiducial parameters should also be provided in\n",
    "# `mass_1` and `mass_2` below.\n",
    "\n",
    "fiducial_parameters = {\n",
    "    \"a_1\": 0.018,\n",
    "    \"a_2\": 0.016,\n",
    "    \"chirp_mass\": 1.48658,\n",
    "    \"dec\": 0.438,\n",
    "    \"geocent_time\": 1240215503.039,\n",
    "    \"lambda_1\": 446.941,\n",
    "    \"lambda_2\": 43.386,\n",
    "    \"luminosity_distance\": 206.751,\n",
    "    \"mass_ratio\": 0.8955,\n",
    "    \"phase\": 3.0136566567608765,\n",
    "    \"phi_12\": 4.319,\n",
    "    \"phi_jl\": 5.07,\n",
    "    \"psi\": 0.281,\n",
    "    \"ra\": 4.2,\n",
    "    \"theta_jn\": 0.185,\n",
    "    \"tilt_1\": 0.879,\n",
    "    \"tilt_2\": 0.514,\n",
    "}\n",
    "psd_duration = 1024\n",
    "psd_start_time = start_time - psd_duration\n",
    "psd_end_time = start_time"
   ]
  },
  {
   "cell_type": "code",
   "execution_count": 7,
   "id": "4795abab-2933-4870-82a6-46edaaf34e32",
   "metadata": {},
   "outputs": [
    {
     "name": "stderr",
     "output_type": "stream",
     "text": [
      "12:16 bilby INFO    : Downloading analysis data for ifo L1\n",
      "12:16 bilby INFO    : Downloading psd data for ifo L1\n",
      "12:16 bilby INFO    : Downloading analysis data for ifo V1\n",
      "12:16 bilby INFO    : Downloading psd data for ifo V1\n",
      "12:16 bilby INFO    : Saving data plots to outdir\n",
      "12:16 bilby INFO    : Generating frequency domain strain from given time domain strain.\n",
      "12:16 bilby INFO    : Applying a tukey window with alpha=0.003125, roll off=0.2\n",
      "12:16 bilby INFO    : Generating frequency domain strain from given time domain strain.\n",
      "12:16 bilby INFO    : Applying a tukey window with alpha=0.003125, roll off=0.2\n"
     ]
    }
   ],
   "source": [
    "# We now use gwpy to obtain analysis and psd data and create the ifo_list\n",
    "ifo_list = bilby.gw.detector.InterferometerList([])\n",
    "for det in detectors:\n",
    "    logger.info(\"Downloading analysis data for ifo {}\".format(det))\n",
    "    ifo = bilby.gw.detector.get_empty_interferometer(det)\n",
    "    data = TimeSeries.fetch_open_data(det, start_time, end_time)\n",
    "    ifo.strain_data.set_from_gwpy_timeseries(data)\n",
    "\n",
    "    logger.info(\"Downloading psd data for ifo {}\".format(det))\n",
    "    psd_data = TimeSeries.fetch_open_data(det, psd_start_time, psd_end_time)\n",
    "    psd_alpha = 2 * roll_off / duration\n",
    "    psd = psd_data.psd(\n",
    "        fftlength=duration, overlap=0, window=(\"tukey\", psd_alpha), method=\"median\"\n",
    "    )\n",
    "    ifo.power_spectral_density = bilby.gw.detector.PowerSpectralDensity(\n",
    "        frequency_array=psd.frequencies.value, psd_array=psd.value\n",
    "    )\n",
    "    ifo.maximum_frequency = maximum_frequency\n",
    "    ifo.minimum_frequency = minimum_frequency\n",
    "    ifo_list.append(ifo)\n",
    "\n",
    "logger.info(\"Saving data plots to {}\".format(outdir))\n",
    "bilby.core.utils.check_directory_exists_and_if_not_mkdir(outdir)\n",
    "ifo_list.plot_data(outdir=outdir, label=label)\n"
   ]
  },
  {
   "cell_type": "code",
   "execution_count": 10,
   "id": "1fb44ff9-c1ae-4fbf-80c7-42240830b0e8",
   "metadata": {},
   "outputs": [
    {
     "name": "stderr",
     "output_type": "stream",
     "text": [
      "12:38 bilby INFO    : No prior given, using default BNS priors in /home/marc.penuliar/bilby/bilby/gw/prior_files/aligned_spins_bns_tides_on.prior.\n"
     ]
    }
   ],
   "source": [
    "\n",
    "# # We now define the prior.\n",
    "# # We have defined our prior distribution in a local file, GW190425.prior\n",
    "# # The prior is printed to the terminal at run-time.\n",
    "# # You can overwrite this using the syntax below in the file,\n",
    "# # or choose a fixed value by just providing a float value as the prior.\n",
    "\n",
    "# priors = bilby.gw.prior.BBHPriorDict(filename=\"GW190425.prior\")\n",
    "# priors[\"fiducial\"] = 0\n",
    "\n",
    "# # Add the geocent time prior\n",
    "# priors[\"geocent_time\"] = bilby.core.prior.Uniform(\n",
    "#     trigger_time - 0.1, trigger_time + 0.1, name=\"geocent_time\"\n",
    "# )\n",
    "\n",
    "priors = bilby.gw.prior.BNSPriorDict()\n",
    "for key in [\n",
    "    \"psi\",\n",
    "    \"geocent_time\",\n",
    "    \"ra\",\n",
    "    \"dec\",\n",
    "    \"chi_1\",\n",
    "    \"chi_2\",\n",
    "    \"theta_jn\",\n",
    "    \"luminosity_distance\",\n",
    "    # \"phase\",\n",
    "]:\n",
    "    priors[key] = fiducial_parameters[key] #changed from injection_parameters to fiducial_parameters\n",
    "del (\n",
    "    priors[\"lambda_1\"],\n",
    "    priors[\"lambda_2\"],\n",
    "    priors[\"mass_ratio\"],\n",
    ")\n",
    "priors[\"chirp_mass\"] = bilby.core.prior.Gaussian(\n",
    "    1.215, 0.1, name=\"chirp_mass\", unit=\"$M_{\\\\odot}$\"\n",
    ")\n",
    "priors[\"symmetric_mass_ratio\"] = bilby.core.prior.Uniform(\n",
    "    0.1, 0.25, name=\"symmetric_mass_ratio\"\n",
    ")\n",
    "\n",
    "# Using this prior will create lambda1 and lambda2. Outputs are funky\n",
    "priors[\"lambda_symmetric\"] = bilby.core.prior.Uniform(0, 5000, name=\"lambda_symmetric\")\n",
    "\n",
    "priors[\"binary_love_uniform\"] = bilby.core.prior.Uniform(\n",
    "    0, 1, name=\"binary_love_uniform\"\n",
    ")\n",
    "\n",
    "priors[\"lambda_1\"] = bilby.core.prior.Constraint(\n",
    "    name=\"lambda_1\", minimum=0, maximum=10000\n",
    ")\n",
    "priors[\"lambda_2\"] = bilby.core.prior.Constraint(\n",
    "    name=\"lambda_2\", minimum=0, maximum=10000\n",
    ")\n",
    "\n",
    "priors[\"phase\"] = bilby.core.prior.Uniform(\n",
    "    0, 2 * np.pi, boundary=\"periodic\", name=\"phase\"\n",
    ")\n"
   ]
  },
  {
   "cell_type": "code",
   "execution_count": 11,
   "id": "2c4a2c0c-0745-4a83-9314-04114920931d",
   "metadata": {},
   "outputs": [
    {
     "ename": "AttributeError",
     "evalue": "module 'bilby.gw.source' has no attribute 'lal_binary_neutron_star_relative_binning'",
     "output_type": "error",
     "traceback": [
      "\u001b[0;31m---------------------------------------------------------------------------\u001b[0m",
      "\u001b[0;31mAttributeError\u001b[0m                            Traceback (most recent call last)",
      "Cell \u001b[0;32mIn [11], line 7\u001b[0m\n\u001b[1;32m      1\u001b[0m \u001b[38;5;66;03m# In this step we define a `waveform_generator`. This is the object which\u001b[39;00m\n\u001b[1;32m      2\u001b[0m \u001b[38;5;66;03m# creates the frequency-domain strain. In this instance, we are using the\u001b[39;00m\n\u001b[1;32m      3\u001b[0m \u001b[38;5;66;03m# `lal_binary_black_hole model` source model. We also pass other parameters:\u001b[39;00m\n\u001b[1;32m      4\u001b[0m \u001b[38;5;66;03m# the waveform approximant and reference frequency and a parameter conversion\u001b[39;00m\n\u001b[1;32m      5\u001b[0m \u001b[38;5;66;03m# which allows us to sample in chirp mass and ratio rather than component mass\u001b[39;00m\n\u001b[1;32m      6\u001b[0m waveform_generator \u001b[38;5;241m=\u001b[39m bilby\u001b[38;5;241m.\u001b[39mgw\u001b[38;5;241m.\u001b[39mWaveformGenerator(\n\u001b[0;32m----> 7\u001b[0m     frequency_domain_source_model\u001b[38;5;241m=\u001b[39m\u001b[43mbilby\u001b[49m\u001b[38;5;241;43m.\u001b[39;49m\u001b[43mgw\u001b[49m\u001b[38;5;241;43m.\u001b[39;49m\u001b[43msource\u001b[49m\u001b[38;5;241;43m.\u001b[39;49m\u001b[43mlal_binary_neutron_star_relative_binning\u001b[49m,\n\u001b[1;32m      8\u001b[0m     parameter_conversion\u001b[38;5;241m=\u001b[39mbilby\u001b[38;5;241m.\u001b[39mgw\u001b[38;5;241m.\u001b[39mconversion\u001b[38;5;241m.\u001b[39mconvert_to_lal_binary_neutron_star_parameters,\n\u001b[1;32m      9\u001b[0m     waveform_arguments\u001b[38;5;241m=\u001b[39m{\n\u001b[1;32m     10\u001b[0m         \u001b[38;5;124m\"\u001b[39m\u001b[38;5;124mwaveform_approximant\u001b[39m\u001b[38;5;124m\"\u001b[39m: \u001b[38;5;124m\"\u001b[39m\u001b[38;5;124mIMRPhenomPv2_NRTidalv2\u001b[39m\u001b[38;5;124m\"\u001b[39m,\n\u001b[1;32m     11\u001b[0m         \u001b[38;5;124m\"\u001b[39m\u001b[38;5;124mreference_frequency\u001b[39m\u001b[38;5;124m\"\u001b[39m: \u001b[38;5;241m20\u001b[39m,\n\u001b[1;32m     12\u001b[0m     },\n\u001b[1;32m     13\u001b[0m )\n",
      "\u001b[0;31mAttributeError\u001b[0m: module 'bilby.gw.source' has no attribute 'lal_binary_neutron_star_relative_binning'"
     ]
    }
   ],
   "source": [
    "\n",
    "# In this step we define a `waveform_generator`. This is the object which\n",
    "# creates the frequency-domain strain. In this instance, we are using the\n",
    "# `lal_binary_black_hole model` source model. We also pass other parameters:\n",
    "# the waveform approximant and reference frequency and a parameter conversion\n",
    "# which allows us to sample in chirp mass and ratio rather than component mass\n",
    "waveform_generator = bilby.gw.WaveformGenerator(\n",
    "    frequency_domain_source_model=bilby.gw.source.lal_binary_neutron_star_relative_binning,\n",
    "    parameter_conversion=bilby.gw.conversion.convert_to_lal_binary_neutron_star_parameters,\n",
    "    waveform_arguments={\n",
    "        \"waveform_approximant\": \"IMRPhenomPv2_NRTidalv2\",\n",
    "        \"reference_frequency\": 20,\n",
    "    },\n",
    ")\n"
   ]
  },
  {
   "cell_type": "code",
   "execution_count": null,
   "id": "ba9c2cae-dd98-415e-9e75-f881cc59d1f5",
   "metadata": {},
   "outputs": [],
   "source": [
    "\n",
    "# In this step, we define the likelihood. Here we use the standard likelihood\n",
    "# function, passing it the data and the waveform generator.\n",
    "# Note, phase_marginalization is formally invalid with a precessing waveform such as IMRPhenomPv2\n",
    "likelihood = bilby.gw.likelihood.RelativeBinningGravitationalWaveTransient(\n",
    "    ifo_list,\n",
    "    waveform_generator,\n",
    "    priors=priors,\n",
    "    time_marginalization=False,\n",
    "    phase_marginalization=True,\n",
    "    distance_marginalization=True,\n",
    "    fiducial_parameters=fiducial_parameters,\n",
    ")"
   ]
  },
  {
   "cell_type": "code",
   "execution_count": 2,
   "id": "be5b90e9-dce4-4365-af81-db0446a4aa3a",
   "metadata": {},
   "outputs": [
    {
     "ename": "AttributeError",
     "evalue": "module 'bilby.gw.detector' has no attribute 'get_event_data'",
     "output_type": "error",
     "traceback": [
      "\u001b[0;31m---------------------------------------------------------------------------\u001b[0m",
      "\u001b[0;31mAttributeError\u001b[0m                            Traceback (most recent call last)",
      "Cell \u001b[0;32mIn [2], line 29\u001b[0m\n\u001b[1;32m     26\u001b[0m \u001b[38;5;66;03m# For O2 events a \"tag\" is required to download the data.\u001b[39;00m\n\u001b[1;32m     27\u001b[0m \u001b[38;5;66;03m# CLN = clean data; C02 = raw data\u001b[39;00m\n\u001b[1;32m     28\u001b[0m kwargs[\u001b[38;5;124m'\u001b[39m\u001b[38;5;124mtag\u001b[39m\u001b[38;5;124m'\u001b[39m] \u001b[38;5;241m=\u001b[39m \u001b[38;5;124m'\u001b[39m\u001b[38;5;124mC02\u001b[39m\u001b[38;5;124m'\u001b[39m\n\u001b[0;32m---> 29\u001b[0m interferometers \u001b[38;5;241m=\u001b[39m \u001b[43mbilby\u001b[49m\u001b[38;5;241;43m.\u001b[39;49m\u001b[43mgw\u001b[49m\u001b[38;5;241;43m.\u001b[39;49m\u001b[43mdetector\u001b[49m\u001b[38;5;241;43m.\u001b[39;49m\u001b[43mget_event_data\u001b[49m(\n\u001b[1;32m     30\u001b[0m     label,\n\u001b[1;32m     31\u001b[0m     interferometer_names\u001b[38;5;241m=\u001b[39minterferometer_names,\n\u001b[1;32m     32\u001b[0m     duration\u001b[38;5;241m=\u001b[39mduration,\n\u001b[1;32m     33\u001b[0m     roll_off\u001b[38;5;241m=\u001b[39mroll_off,\n\u001b[1;32m     34\u001b[0m     psd_offset\u001b[38;5;241m=\u001b[39mpsd_offset,\n\u001b[1;32m     35\u001b[0m     psd_duration\u001b[38;5;241m=\u001b[39mpsd_duration,\n\u001b[1;32m     36\u001b[0m     cache\u001b[38;5;241m=\u001b[39m\u001b[38;5;28;01mTrue\u001b[39;00m,\n\u001b[1;32m     37\u001b[0m     filter_freq\u001b[38;5;241m=\u001b[39mfilter_freq,\n\u001b[1;32m     38\u001b[0m     \u001b[38;5;241m*\u001b[39m\u001b[38;5;241m*\u001b[39mkwargs)\n",
      "\u001b[0;31mAttributeError\u001b[0m: module 'bilby.gw.detector' has no attribute 'get_event_data'"
     ]
    }
   ],
   "source": [
    "# Finally, we run the sampler. This function takes the likelihood and prior\n",
    "# along with some options for how to do the sampling and how to save the data\n",
    "result = bilby.run_sampler(\n",
    "    likelihood,\n",
    "    priors,\n",
    "    sampler=\"dynesty\",\n",
    "    outdir=outdir,\n",
    "    label=label,\n",
    "    nlive=1000,\n",
    "    check_point_delta_t=600,\n",
    "    check_point_plot=True,\n",
    "    npool=1,\n",
    "    conversion_function=bilby.gw.conversion.generate_all_bns_parameters,\n",
    ")\n",
    "result.plot_corner()\n"
   ]
  }
 ],
 "metadata": {
  "kernelspec": {
   "display_name": "igwn-py39",
   "language": "python",
   "name": "igwn-py39"
  },
  "language_info": {
   "codemirror_mode": {
    "name": "ipython",
    "version": 3
   },
   "file_extension": ".py",
   "mimetype": "text/x-python",
   "name": "python",
   "nbconvert_exporter": "python",
   "pygments_lexer": "ipython3",
   "version": "3.9.13"
  }
 },
 "nbformat": 4,
 "nbformat_minor": 5
}
