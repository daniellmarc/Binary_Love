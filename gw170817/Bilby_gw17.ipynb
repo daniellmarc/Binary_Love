{
 "cells": [
  {
   "cell_type": "code",
   "execution_count": 15,
   "id": "deb2e4fa-a75c-47fe-a1bf-18c592bf379e",
   "metadata": {},
   "outputs": [],
   "source": [
    "import sys\n",
    "sys.path.insert(0,'/home/marc.penuliar/bilby') \n",
    "import bilby\n",
    "import numpy as np"
   ]
  },
  {
   "cell_type": "code",
   "execution_count": 16,
   "id": "be5b90e9-dce4-4365-af81-db0446a4aa3a",
   "metadata": {},
   "outputs": [
    {
     "ename": "AttributeError",
     "evalue": "module 'bilby.gw.detector' has no attribute 'get_event_data'",
     "output_type": "error",
     "traceback": [
      "\u001b[0;31m---------------------------------------------------------------------------\u001b[0m",
      "\u001b[0;31mAttributeError\u001b[0m                            Traceback (most recent call last)",
      "Cell \u001b[0;32mIn [16], line 29\u001b[0m\n\u001b[1;32m     26\u001b[0m \u001b[38;5;66;03m# For O2 events a \"tag\" is required to download the data.\u001b[39;00m\n\u001b[1;32m     27\u001b[0m \u001b[38;5;66;03m# CLN = clean data; C02 = raw data\u001b[39;00m\n\u001b[1;32m     28\u001b[0m kwargs[\u001b[38;5;124m'\u001b[39m\u001b[38;5;124mtag\u001b[39m\u001b[38;5;124m'\u001b[39m] \u001b[38;5;241m=\u001b[39m \u001b[38;5;124m'\u001b[39m\u001b[38;5;124mC02\u001b[39m\u001b[38;5;124m'\u001b[39m\n\u001b[0;32m---> 29\u001b[0m interferometers \u001b[38;5;241m=\u001b[39m \u001b[43mbilby\u001b[49m\u001b[38;5;241;43m.\u001b[39;49m\u001b[43mgw\u001b[49m\u001b[38;5;241;43m.\u001b[39;49m\u001b[43mdetector\u001b[49m\u001b[38;5;241;43m.\u001b[39;49m\u001b[43mget_event_data\u001b[49m(\n\u001b[1;32m     30\u001b[0m     label,\n\u001b[1;32m     31\u001b[0m     interferometer_names\u001b[38;5;241m=\u001b[39minterferometer_names,\n\u001b[1;32m     32\u001b[0m     duration\u001b[38;5;241m=\u001b[39mduration,\n\u001b[1;32m     33\u001b[0m     roll_off\u001b[38;5;241m=\u001b[39mroll_off,\n\u001b[1;32m     34\u001b[0m     psd_offset\u001b[38;5;241m=\u001b[39mpsd_offset,\n\u001b[1;32m     35\u001b[0m     psd_duration\u001b[38;5;241m=\u001b[39mpsd_duration,\n\u001b[1;32m     36\u001b[0m     cache\u001b[38;5;241m=\u001b[39m\u001b[38;5;28;01mTrue\u001b[39;00m,\n\u001b[1;32m     37\u001b[0m     filter_freq\u001b[38;5;241m=\u001b[39mfilter_freq,\n\u001b[1;32m     38\u001b[0m     \u001b[38;5;241m*\u001b[39m\u001b[38;5;241m*\u001b[39mkwargs)\n",
      "\u001b[0;31mAttributeError\u001b[0m: module 'bilby.gw.detector' has no attribute 'get_event_data'"
     ]
    }
   ],
   "source": [
    "outdir = 'outdir'\n",
    "label = 'GW170817'\n",
    "time_of_event = bilby.gw.utils.get_event_time(label)\n",
    "bilby.core.utils.setup_logger(outdir=outdir, label=label)\n",
    "# GET DATA FROM INTERFEROMETER\n",
    "# include 'V1' for appropriate O2 events\n",
    "interferometer_names = ['H1', 'L1', 'V1']\n",
    "duration = 32\n",
    "roll_off = 0.2  # how smooth is the transition from no signal\n",
    "# to max signal in a Tukey Window.\n",
    "psd_offset = -512  # PSD is estimated using data from\n",
    "# `center_time+psd_offset` to `center_time+psd_offset + psd_duration`\n",
    "# This determines the time window used to fetch open data.\n",
    "psd_duration = 1024\n",
    "coherence_test = False  # coherence between detectors\n",
    "filter_freq = None  # low pass filter frequency to cut signal content above\n",
    "# Nyquist frequency. The condition is 2 * filter_freq >= sampling_frequency\n",
    "\n",
    "\n",
    "# All keyword arguments are passed to\n",
    "# `gwpy.timeseries.TimeSeries.fetch_open_data()'\n",
    "kwargs = {}\n",
    "# Data are stored by LOSC at 4096 Hz, however\n",
    "# there may be event-related data releases with a 16384 Hz rate.\n",
    "kwargs['sample_rate'] = 4096\n",
    "# For O2 events a \"tag\" is required to download the data.\n",
    "# CLN = clean data; C02 = raw data\n",
    "kwargs['tag'] = 'C02'\n",
    "interferometers = bilby.gw.detector.get_event_data(\n",
    "    label,\n",
    "    interferometer_names=interferometer_names,\n",
    "    duration=duration,\n",
    "    roll_off=roll_off,\n",
    "    psd_offset=psd_offset,\n",
    "    psd_duration=psd_duration,\n",
    "    cache=True,\n",
    "    filter_freq=filter_freq,\n",
    "    **kwargs)"
   ]
  },
  {
   "cell_type": "code",
   "execution_count": null,
   "id": "8fe02613-e1ef-48e9-a5b5-ea20d2207821",
   "metadata": {},
   "outputs": [],
   "source": []
  },
  {
   "cell_type": "code",
   "execution_count": 8,
   "id": "a4661901-a613-4d58-840a-d682d8649dcb",
   "metadata": {},
   "outputs": [],
   "source": [
    "# Fixed arguments passed into the source model. The analysis starts at 40 Hz.\n",
    "waveform_arguments = dict(\n",
    "    waveform_approximant=\"IMRPhenomD_NRTidalv2\",\n",
    "    reference_frequency=50.0,\n",
    "    minimum_frequency=40.0,\n",
    ")"
   ]
  },
  {
   "cell_type": "code",
   "execution_count": 9,
   "id": "5f80b303-42ce-49b2-bed4-d60d5327392e",
   "metadata": {},
   "outputs": [
    {
     "ename": "NameError",
     "evalue": "name 'prior' is not defined",
     "output_type": "error",
     "traceback": [
      "\u001b[0;31m---------------------------------------------------------------------------\u001b[0m",
      "\u001b[0;31mNameError\u001b[0m                                 Traceback (most recent call last)",
      "Cell \u001b[0;32mIn [9], line 2\u001b[0m\n\u001b[1;32m      1\u001b[0m deltaT \u001b[38;5;241m=\u001b[39m \u001b[38;5;241m0.1\u001b[39m\n\u001b[0;32m----> 2\u001b[0m \u001b[43mprior\u001b[49m[\u001b[38;5;124m'\u001b[39m\u001b[38;5;124mgeocent_time\u001b[39m\u001b[38;5;124m'\u001b[39m] \u001b[38;5;241m=\u001b[39m bilby\u001b[38;5;241m.\u001b[39mcore\u001b[38;5;241m.\u001b[39mprior\u001b[38;5;241m.\u001b[39mUniform(\n\u001b[1;32m      3\u001b[0m     minimum\u001b[38;5;241m=\u001b[39mtime_of_event \u001b[38;5;241m-\u001b[39m deltaT \u001b[38;5;241m/\u001b[39m \u001b[38;5;241m2\u001b[39m,\n\u001b[1;32m      4\u001b[0m     maximum\u001b[38;5;241m=\u001b[39mtime_of_event \u001b[38;5;241m+\u001b[39m deltaT \u001b[38;5;241m/\u001b[39m \u001b[38;5;241m2\u001b[39m,\n\u001b[1;32m      5\u001b[0m     name\u001b[38;5;241m=\u001b[39m\u001b[38;5;124m'\u001b[39m\u001b[38;5;124mgeocent_time\u001b[39m\u001b[38;5;124m'\u001b[39m,\n\u001b[1;32m      6\u001b[0m     latex_label\u001b[38;5;241m=\u001b[39m\u001b[38;5;124m'\u001b[39m\u001b[38;5;124m$t_c$\u001b[39m\u001b[38;5;124m'\u001b[39m,\n\u001b[1;32m      7\u001b[0m     unit\u001b[38;5;241m=\u001b[39m\u001b[38;5;124m'\u001b[39m\u001b[38;5;124m$s$\u001b[39m\u001b[38;5;124m'\u001b[39m)\n\u001b[1;32m      9\u001b[0m priors[\u001b[38;5;124m\"\u001b[39m\u001b[38;5;124mchirp_mass\u001b[39m\u001b[38;5;124m\"\u001b[39m] \u001b[38;5;241m=\u001b[39m bilby\u001b[38;5;241m.\u001b[39mcore\u001b[38;5;241m.\u001b[39mprior\u001b[38;5;241m.\u001b[39mGaussian(\n\u001b[1;32m     10\u001b[0m     \u001b[38;5;241m1.1975\u001b[39m, \u001b[38;5;241m0.1\u001b[39m, name\u001b[38;5;241m=\u001b[39m\u001b[38;5;124m\"\u001b[39m\u001b[38;5;124mchirp_mass\u001b[39m\u001b[38;5;124m\"\u001b[39m, unit\u001b[38;5;241m=\u001b[39m\u001b[38;5;124m\"\u001b[39m\u001b[38;5;124m$M_\u001b[39m\u001b[38;5;124m{\u001b[39m\u001b[38;5;130;01m\\\\\u001b[39;00m\u001b[38;5;124modot}$\u001b[39m\u001b[38;5;124m\"\u001b[39m\n\u001b[1;32m     11\u001b[0m )\n\u001b[1;32m     14\u001b[0m duration \u001b[38;5;241m=\u001b[39m \u001b[38;5;28;01mNone\u001b[39;00m  \u001b[38;5;66;03m# duration and sampling frequency will be overwritten\u001b[39;00m\n",
      "\u001b[0;31mNameError\u001b[0m: name 'prior' is not defined"
     ]
    }
   ],
   "source": [
    "deltaT = 0.1\n",
    "prior['geocent_time'] = bilby.core.prior.Uniform(\n",
    "    minimum=time_of_event - deltaT / 2,\n",
    "    maximum=time_of_event + deltaT / 2,\n",
    "    name='geocent_time',\n",
    "    latex_label='$t_c$',\n",
    "    unit='$s$')\n",
    "\n",
    "priors[\"chirp_mass\"] = bilby.core.prior.Gaussian(\n",
    "    1.1975, 0.1, name=\"chirp_mass\", unit=\"$M_{\\\\odot}$\"\n",
    ")\n",
    "\n",
    "\n",
    "duration = None  # duration and sampling frequency will be overwritten\n",
    "# to match the ones in interferometers.\n",
    "sampling_frequency = kwargs['sample_rate']\n",
    "start_time = 0  # set the starting time of the time array"
   ]
  },
  {
   "cell_type": "code",
   "execution_count": null,
   "id": "da0b759a-35ec-45e3-8710-9f643339bb5a",
   "metadata": {},
   "outputs": [],
   "source": [
    "likelihood = bilby.gw.likelihood.GravitationalWaveTransient(\n",
    "    interferometers,\n",
    "    waveform_generator,\n",
    "    time_marginalization=False,\n",
    "    distance_marginalization=False,\n",
    "    phase_marginalization=False,)"
   ]
  },
  {
   "cell_type": "code",
   "execution_count": null,
   "id": "03fa44b9-4108-424f-93ad-85f6c528f807",
   "metadata": {},
   "outputs": [],
   "source": [
    "npoints = 512\n",
    "sampler = 'dynesty'\n",
    "result = bilby.run_sampler(\n",
    "    likelihood,\n",
    "    prior,\n",
    "    outdir=outdir,\n",
    "    label=label,\n",
    "    sampler=sampler,\n",
    "    npoints=npoints,\n",
    "    use_ratio=False,\n",
    "    conversion_function=bilby.gw.conversion.generate_all_bns_parameters)\n",
    "\n",
    "result.plot_corner()"
   ]
  }
 ],
 "metadata": {
  "kernelspec": {
   "display_name": "igwn-py39",
   "language": "python",
   "name": "igwn-py39"
  },
  "language_info": {
   "codemirror_mode": {
    "name": "ipython",
    "version": 3
   },
   "file_extension": ".py",
   "mimetype": "text/x-python",
   "name": "python",
   "nbconvert_exporter": "python",
   "pygments_lexer": "ipython3",
   "version": "3.9.13"
  }
 },
 "nbformat": 4,
 "nbformat_minor": 5
}
